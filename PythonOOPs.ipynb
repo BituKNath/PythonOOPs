{
  "nbformat": 4,
  "nbformat_minor": 0,
  "metadata": {
    "colab": {
      "provenance": []
    },
    "kernelspec": {
      "name": "python3",
      "display_name": "Python 3"
    },
    "language_info": {
      "name": "python"
    }
  },
  "cells": [
    {
      "cell_type": "markdown",
      "source": [
        "# Assignment on Python OOPs\n",
        "\n",
        "1. What is Object-Oriented Programming (OOP)?\n",
        "\n",
        "  - Object-Oriented Programming (OOP) is a programming approach based on the concept of \"objects,\" which contain data (attributes) and code (methods). It uses key principles like encapsulation, inheritance, polymorphism, and abstraction to structure code in a modular and reusable way. OOP helps in building flexible, maintainable, and scalable software by modeling real-world entities as objects.\n",
        "\n",
        "2. What is a class in OOP?\n",
        "\n",
        "  - In Object-Oriented Programming (OOP), a class is a blueprint or template used to create objects. It defines the structure and behavior of objects by specifying their attributes (data) and methods (functions). Objects are instances of a class, and each object created from the class has the same properties and behaviors defined in the class.\n",
        "\n",
        "3. What is an object in OOP?\n",
        "\n",
        "  - An object in Object-Oriented Programming (OOP) is an instance of a class. It represents a real-world entity and contains data (attributes) and functions (methods) that define its behavior. Each object operates independently but follows the structure defined by its class.\n",
        "\n",
        "4. What is the difference between abstraction and encapsulation?\n",
        "\n",
        "  - Abstraction is the concept of hiding unnecessary details and showing only the essential features of an object. It focuses on what an object does.\n",
        "\n",
        "  Encapsulation is the process of wrapping data and methods into a single unit (a class) and restricting direct access to some parts of it. It focuses on how the object does it by protecting the internal state.\n",
        "\n",
        "    In short:\n",
        "\n",
        "    Abstraction = Hiding implementation details\n",
        "\n",
        "    Encapsulation = Hiding data for security and control\n",
        "\n",
        "5. What are dunder methods in Python?\n",
        "\n",
        "  - Dunder methods (short for “double underscore methods”) in Python are special methods that start and end with double underscores, like __init__, __str__, and __add__. They are also called magic methods and are used to define how objects behave with built-in operations such as printing, adding, or comparing.\n",
        "\n",
        "    For example:\n",
        "\n",
        "    __init__ is used for object initialization.\n",
        "\n",
        "    __str__ defines how an object is represented as a string.\n",
        "\n",
        "    __add__ defines the behavior of the + operator.\n",
        "\n",
        "6.  Explain the concept of inheritance in OOP?\n",
        "\n",
        "  - Inheritance in Object-Oriented Programming (OOP) is a mechanism that allows one class (called the child or subclass) to inherit properties and methods from another class (called the parent or superclass). It promotes code reuse and makes it easier to create and maintain applications.\n",
        "\n",
        "  The child class can use the existing functionality of the parent class and can also have its own additional features or override existing ones.\n",
        "\n",
        "    Example:\n",
        "    If Vehicle is a parent class, a Car class can inherit from it and reuse its features like start() or stop() methods.\n",
        "  \n",
        "7. What is polymorphism in OOP?\n",
        "\n",
        "  - Polymorphism in Object-Oriented Programming (OOP) means the ability of different objects to respond to the same method in different ways. It allows one interface to be used for different data types or classes.\n",
        "\n",
        "    There are two types:\n",
        "\n",
        "    Compile-time polymorphism (method overloading)\n",
        "\n",
        "    Run-time polymorphism (method overriding)\n",
        "\n",
        "    Example:\n",
        "    Different classes like Dog and Cat may have a method speak(), but each class implements it differently.\n",
        "\n",
        "8. How is encapsulation achieved in Python?\n",
        "\n",
        "  - Encapsulation in Python is achieved by hiding the internal state of an object and allowing access only through public methods. This is done by using access modifiers:\n",
        "\n",
        "    Public attributes/methods: Accessible from anywhere (no underscore).\n",
        "\n",
        "    Protected attributes: Indicated by a single underscore _, should not be accessed directly outside the class.\n",
        "\n",
        "    Private attributes: Indicated by double underscores __, Python performs name mangling to make them harder to access from outside the class.\n",
        "\n",
        "9. What is a constructor in Python?\n",
        "\n",
        "  - A constructor in Python is a special method used to initialize objects when a class is created. It is defined using the __init__() method and is automatically called when a new object is created from a class.\n",
        "\n",
        "10. What are class and static methods in Python?\n",
        "\n",
        "  - Class Methods are methods that receive the class itself as the first argument and can access or modify class-level data. They are marked with the @classmethod decorator.\n",
        "\n",
        "  - Static Methods are methods that do not receive an automatic first argument (neither instance nor class). They behave like regular functions but belong to the class’s namespace and are marked with the @staticmethod decorator.\n",
        "\n",
        "11. What is method overloading in Python?\n",
        "\n",
        "  - Method overloading is the ability to define multiple methods with the same name but different parameters in the same class. However, Python does not support true method overloading like some other languages. Instead, Python methods can use default arguments or variable-length arguments to handle different cases within a single method.\n",
        "\n",
        "12. What is method overriding in OOP?\n",
        "\n",
        "  - Method overriding occurs when a subclass provides its own version of a method that is already defined in its parent class. This allows the subclass to change or extend the behavior of that method while keeping the same method name.\n",
        "\n",
        "13. What is a property decorator in Python?\n",
        "\n",
        "  - The property decorator (@property) in Python is used to define a method as a getter for a class attribute, allowing you to access it like an attribute instead of calling it like a method. It helps to control access and add logic when getting or setting attribute values, supporting encapsulation.\n",
        "\n",
        "14. Why is polymorphism important in OOP?\n",
        "\n",
        "  - Polymorphism is important because it allows objects of different classes to be treated through a common interface. This makes code more flexible, reusable, and easier to extend or maintain, as the same method call can behave differently depending on the object’s class.\n",
        "\n",
        "15. What is an abstract class in Python?\n",
        "\n",
        "  - An abstract class in Python is a class that cannot be instantiated on its own and is designed to be a blueprint for other classes. It may contain one or more abstract methods that must be implemented by any subclass. Abstract classes are created using the abc module and the @abstractmethod decorator.\n",
        "\n",
        "16. What are the advantages of OOP?\n",
        "\n",
        "  - Modularity: Code is organized into objects, making it easier to manage and understand.\n",
        "\n",
        "  - Reusability: Classes and objects can be reused across programs through inheritance.\n",
        "\n",
        "  - Scalability: OOP makes it easier to scale and extend applications.\n",
        "\n",
        "  - Maintainability: Encapsulation helps protect data and reduces complexity.\n",
        "\n",
        "  - Flexibility: Polymorphism allows the same interface to be used for different underlying forms.\n",
        "\n",
        "  - Real-world modeling: OOP closely models real-world entities, making design intuitive.\n",
        "\n",
        "17. What is the difference between a class variable and an instance variable?\n",
        "\n",
        "  - Class Variable:\n",
        "    A variable that is shared by all instances of a class. It belongs to the class itself and has the same value for every object unless changed at the class level.\n",
        "\n",
        "  - Instance Variable:\n",
        "    A variable that is unique to each object (instance) of a class. It stores data that belongs to a specific object.\n",
        "\n",
        "18. What is multiple inheritance in Python?\n",
        "\n",
        "  - Multiple inheritance in Python is a feature where a class can inherit attributes and methods from more than one parent class. This allows the child class to combine behaviors and properties from multiple sources.\n",
        "\n",
        "19. Explain the purpose of ‘’__str__’ and ‘__repr__’ ‘ methods in Python\n",
        "\n",
        "  - __str__ defines the informal or user-friendly string representation of an object, used by the print() function.\n",
        "\n",
        "  - __repr__ defines the official string representation of an object, aimed at developers, and should ideally be a valid Python expression to recreate the object.\n",
        "\n",
        "20. What is the significance of the ‘super()’ function in Python?\n",
        "\n",
        "  - The super() function allows a subclass to call methods from its parent class. It is commonly used to access and extend the behavior of inherited methods, especially in multiple inheritance scenarios, ensuring proper initialization and method resolution.\n",
        "\n",
        "21. What is the significance of the __del__ method in Python?\n",
        "\n",
        "  - The __del__ method is a special destructor method in Python that is called when an object is about to be destroyed or garbage collected. It is used to perform any cleanup actions, such as releasing resources or closing files, before the object is removed from memory.\n",
        "\n",
        "22. What is the difference between @staticmethod and @classmethod in Python?\n",
        "\n",
        "  - @staticmethod defines a method that does not receive an implicit first argument. It behaves like a regular function inside a class and cannot access the instance (self) or class (cls) directly.\n",
        "\n",
        "  - @classmethod defines a method that receives the class itself (cls) as the first argument. It can access or modify class state and is bound to the class, not the instance.\n",
        "\n",
        "23. How does polymorphism work in Python with inheritance?\n",
        "\n",
        "  - Polymorphism in Python allows a subclass to override methods of its parent class, so when a method is called on an object, Python determines which version to execute based on the object's actual class. This means the same method name can behave differently for different classes in an inheritance hierarchy, enabling flexible and dynamic behavior.\n",
        "\n",
        "24. What is method chaining in Python OOP?\n",
        "\n",
        "  - Method chaining is a technique where multiple methods are called sequentially on the same object in a single line of code. Each method returns the object itself (self), allowing the next method to be called immediately after.\n",
        "\n",
        "25. What is the purpose of the __call__ method in Python?\n",
        "\n",
        "  - The __call__ method allows an instance of a class to be called like a regular function. When you use parentheses () after an object, Python internally calls the object’s __call__ method, enabling the object to behave like a callable."
      ],
      "metadata": {
        "id": "JeJAO0P5FXU4"
      }
    },
    {
      "cell_type": "code",
      "execution_count": null,
      "metadata": {
        "colab": {
          "base_uri": "https://localhost:8080/"
        },
        "id": "VpyX4-_LENJV",
        "outputId": "ba882551-7df0-480a-8e33-84083941de1d"
      },
      "outputs": [
        {
          "output_type": "stream",
          "name": "stdout",
          "text": [
            "This animal makes a sound.\n",
            "Bark!\n"
          ]
        }
      ],
      "source": [
        "# Create a parent class Animal with a method speak() that prints a generic\n",
        "# message. Create a child class Dog that overrides the speak() method\n",
        "# to print \"Bark!\".\n",
        "\n",
        "class Animal:\n",
        "    def speak(self):\n",
        "        print(\"This animal makes a sound.\")\n",
        "\n",
        "class Dog(Animal):\n",
        "    def speak(self):\n",
        "        print(\"Bark!\")\n",
        "\n",
        "# Example usage\n",
        "animal = Animal()\n",
        "animal.speak()  # Output: This animal makes a sound.\n",
        "\n",
        "dog = Dog()\n",
        "dog.speak()     # Output: Bark!\n"
      ]
    },
    {
      "cell_type": "code",
      "source": [
        "# Write a program to create an abstract class Shape with a method area().\n",
        "# Derive classes Circle and Rectangle from it and implement the area()\n",
        "# method in both.\n",
        "\n",
        "from abc import ABC, abstractmethod\n",
        "\n",
        "class Shape(ABC):\n",
        "    @abstractmethod\n",
        "    def area(self):\n",
        "        pass\n",
        "\n",
        "class Circle(Shape):\n",
        "    def __init__(self, radius):\n",
        "        self.radius = radius\n",
        "\n",
        "    def area(self):\n",
        "        return 3.14 * self.radius * self.radius\n",
        "\n",
        "class Rectangle(Shape):\n",
        "    def __init__(self, length, width):\n",
        "        self.length = length\n",
        "        self.width = width\n",
        "\n",
        "    def area(self):\n",
        "        return self.length * self.width\n",
        "\n",
        "# Testing\n",
        "c = Circle(3)\n",
        "print(\"Circle area:\", c.area())\n",
        "\n",
        "r = Rectangle(4, 5)\n",
        "print(\"Rectangle area:\", r.area())\n"
      ],
      "metadata": {
        "colab": {
          "base_uri": "https://localhost:8080/"
        },
        "id": "rr3gCbGdMTSx",
        "outputId": "fa44b01b-f769-4808-e4c1-e105b1b19c76"
      },
      "execution_count": null,
      "outputs": [
        {
          "output_type": "stream",
          "name": "stdout",
          "text": [
            "Circle area: 28.259999999999998\n",
            "Rectangle area: 20\n"
          ]
        }
      ]
    },
    {
      "cell_type": "code",
      "source": [
        "# Implement a multi-level inheritance scenario where a class Vehicle has\n",
        "# an attribute type. Derive a class Car and further derive a class\n",
        "# ElectricCar that adds a battery attribute.\n",
        "\n",
        "class Vehicle:\n",
        "    def __init__(self, vehicle_type):\n",
        "        self.type = vehicle_type\n",
        "\n",
        "class Car(Vehicle):\n",
        "    def __init__(self, vehicle_type, brand):\n",
        "        super().__init__(vehicle_type)\n",
        "        self.brand = brand\n",
        "\n",
        "class ElectricCar(Car):\n",
        "    def __init__(self, vehicle_type, brand, battery):\n",
        "        super().__init__(vehicle_type, brand)\n",
        "        self.battery = battery\n",
        "\n",
        "# Example usage\n",
        "my_electric_car = ElectricCar(\"Car\", \"Tesla\", \"100 kWh\")\n",
        "print(\"Type:\", my_electric_car.type)\n",
        "print(\"Brand:\", my_electric_car.brand)\n",
        "print(\"Battery:\", my_electric_car.battery)\n"
      ],
      "metadata": {
        "colab": {
          "base_uri": "https://localhost:8080/"
        },
        "id": "hu4Pe964Mx62",
        "outputId": "87e9e3b9-8338-4fc3-cce7-93e5bfae9317"
      },
      "execution_count": null,
      "outputs": [
        {
          "output_type": "stream",
          "name": "stdout",
          "text": [
            "Type: Car\n",
            "Brand: Tesla\n",
            "Battery: 100 kWh\n"
          ]
        }
      ]
    },
    {
      "cell_type": "code",
      "source": [
        "# Demonstrate polymorphism by creating a base class Bird with a method fly().\n",
        "# Create two derived classes Sparrow and Penguin that override the fly() method.\n",
        "\n",
        "class Bird:\n",
        "    def fly(self):\n",
        "        print(\"Some birds can fly.\")\n",
        "\n",
        "class Sparrow(Bird):\n",
        "    def fly(self):\n",
        "        print(\"Sparrow can fly.\")\n",
        "\n",
        "class Penguin(Bird):\n",
        "    def fly(self):\n",
        "        print(\"Penguin cannot fly.\")\n",
        "\n",
        "# Example usage\n",
        "bird = Bird()\n",
        "bird.fly()         # Output: Some birds can fly.\n",
        "\n",
        "sparrow = Sparrow()\n",
        "sparrow.fly()      # Output: Sparrow can fly.\n",
        "\n",
        "penguin = Penguin()\n",
        "penguin.fly()      # Output: Penguin cannot fly.\n",
        "\n"
      ],
      "metadata": {
        "colab": {
          "base_uri": "https://localhost:8080/"
        },
        "id": "D2WyKHToM8tG",
        "outputId": "b577cafd-e764-418d-ab3e-9e808430ec6b"
      },
      "execution_count": null,
      "outputs": [
        {
          "output_type": "stream",
          "name": "stdout",
          "text": [
            "Some birds can fly.\n",
            "Sparrow can fly.\n",
            "Penguin cannot fly.\n"
          ]
        }
      ]
    },
    {
      "cell_type": "code",
      "source": [
        "# Write a program to demonstrate encapsulation by creating a class BankAccount\n",
        "# with private attributes balance and methods to deposit, withdraw,\n",
        "# and check balance.\n",
        "\n",
        "class BankAccount:\n",
        "    def __init__(self, initial_balance=0):\n",
        "        self.__balance = initial_balance  # Private attribute\n",
        "\n",
        "    def deposit(self, amount):\n",
        "        if amount > 0:\n",
        "            self.__balance += amount\n",
        "            print(f\"Deposited: {amount}\")\n",
        "        else:\n",
        "            print(\"Invalid deposit amount\")\n",
        "\n",
        "    def withdraw(self, amount):\n",
        "        if 0 < amount <= self.__balance:\n",
        "            self.__balance -= amount\n",
        "            print(f\"Withdrawn: {amount}\")\n",
        "        else:\n",
        "            print(\"Insufficient balance or invalid amount\")\n",
        "\n",
        "    def check_balance(self):\n",
        "        print(f\"Current balance: {self.__balance}\")\n",
        "\n",
        "# Example usage\n",
        "account = BankAccount(100)\n",
        "account.deposit(50)\n",
        "account.withdraw(30)\n",
        "account.check_balance()\n"
      ],
      "metadata": {
        "colab": {
          "base_uri": "https://localhost:8080/"
        },
        "id": "W1U2SjAYN4h4",
        "outputId": "3a969d39-ffd0-4568-9847-93ec97bb5612"
      },
      "execution_count": null,
      "outputs": [
        {
          "output_type": "stream",
          "name": "stdout",
          "text": [
            "Deposited: 50\n",
            "Withdrawn: 30\n",
            "Current balance: 120\n"
          ]
        }
      ]
    },
    {
      "cell_type": "code",
      "source": [
        "# Demonstrate runtime polymorphism using a method play() in a base class\n",
        "# Instrument. Derive classes Guitar and Piano that implement their\n",
        "# own version of play().\n",
        "\n",
        "class Instrument:\n",
        "    def play(self):\n",
        "        print(\"Playing instrument.\")\n",
        "\n",
        "class Guitar(Instrument):\n",
        "    def play(self):\n",
        "        print(\"Playing guitar.\")\n",
        "\n",
        "class Piano(Instrument):\n",
        "    def play(self):\n",
        "        print(\"Playing piano.\")\n",
        "\n",
        "# Demonstrate runtime polymorphism\n",
        "instruments = [Guitar(), Piano()]\n",
        "\n",
        "for instrument in instruments:\n",
        "    instrument.play()\n"
      ],
      "metadata": {
        "colab": {
          "base_uri": "https://localhost:8080/"
        },
        "id": "1_pQXxkiOFOL",
        "outputId": "4c8050e6-5dfb-421f-b446-021f3b6ecd01"
      },
      "execution_count": null,
      "outputs": [
        {
          "output_type": "stream",
          "name": "stdout",
          "text": [
            "Playing guitar.\n",
            "Playing piano.\n"
          ]
        }
      ]
    },
    {
      "cell_type": "code",
      "source": [
        "# Create a class MathOperations with a class method add_numbers() to add two\n",
        "# numbers and a static method subtract_numbers() to subtract two numbers.\n",
        "\n",
        "class MathOperations:\n",
        "    @classmethod\n",
        "    def add_numbers(cls, a, b):\n",
        "        return a + b\n",
        "\n",
        "    @staticmethod\n",
        "    def subtract_numbers(a, b):\n",
        "        return a - b\n",
        "\n",
        "# Example usage\n",
        "print(\"Addition:\", MathOperations.add_numbers(10, 5))\n",
        "print(\"Subtraction:\", MathOperations.subtract_numbers(10, 5))\n"
      ],
      "metadata": {
        "colab": {
          "base_uri": "https://localhost:8080/"
        },
        "id": "P8Orh-1MOW8F",
        "outputId": "becd1667-de71-489f-9d44-e0d4595c98e0"
      },
      "execution_count": null,
      "outputs": [
        {
          "output_type": "stream",
          "name": "stdout",
          "text": [
            "Addition: 15\n",
            "Subtraction: 5\n"
          ]
        }
      ]
    },
    {
      "cell_type": "code",
      "source": [
        "# Implement a class Person with a class method to count the total\n",
        "# number of persons created\n",
        "\n",
        "class Person:\n",
        "    count = 0  # Class variable to store count of persons\n",
        "\n",
        "    def __init__(self, name):\n",
        "        self.name = name\n",
        "        Person.count += 1\n",
        "\n",
        "    @classmethod\n",
        "    def total_persons(cls):\n",
        "        return cls.count\n",
        "\n",
        "# Example usage\n",
        "p1 = Person(\"Alice\")\n",
        "p2 = Person(\"Bob\")\n",
        "\n",
        "print(\"Total persons created:\", Person.total_persons())\n"
      ],
      "metadata": {
        "colab": {
          "base_uri": "https://localhost:8080/"
        },
        "id": "N71SrRlROdbQ",
        "outputId": "9fd9402d-4aac-4d01-d797-3fef78149e88"
      },
      "execution_count": null,
      "outputs": [
        {
          "output_type": "stream",
          "name": "stdout",
          "text": [
            "Total persons created: 2\n"
          ]
        }
      ]
    },
    {
      "cell_type": "code",
      "source": [
        "# Write a class Fraction with attributes numerator and denominator. Override\n",
        "# the str method to display the fraction as \"numerator/denominator\".\n",
        "\n",
        "class Fraction:\n",
        "    def __init__(self, numerator, denominator):\n",
        "        self.numerator = numerator\n",
        "        self.denominator = denominator\n",
        "\n",
        "    def __str__(self):\n",
        "        return f\"{self.numerator}/{self.denominator}\"\n",
        "\n",
        "# Example usage\n",
        "f = Fraction(3, 4)\n",
        "print(f)  # Output: 3/4\n"
      ],
      "metadata": {
        "colab": {
          "base_uri": "https://localhost:8080/"
        },
        "id": "VBPtwQJlOj_Y",
        "outputId": "21810707-554a-4f51-9e3e-67b075730099"
      },
      "execution_count": null,
      "outputs": [
        {
          "output_type": "stream",
          "name": "stdout",
          "text": [
            "3/4\n"
          ]
        }
      ]
    },
    {
      "cell_type": "code",
      "source": [
        "# Demonstrate operator overloading by creating a class Vector and\n",
        "# overriding the add method to add two vectors\n",
        "\n",
        "class Vector:\n",
        "    def __init__(self, x, y):\n",
        "        self.x = x\n",
        "        self.y = y\n",
        "\n",
        "    def __add__(self, other):\n",
        "        return Vector(self.x + other.x, self.y + other.y)\n",
        "\n",
        "    def __str__(self):\n",
        "        return f\"({self.x}, {self.y})\"\n",
        "\n",
        "# Example usage\n",
        "v1 = Vector(2, 3)\n",
        "v2 = Vector(4, 5)\n",
        "v3 = v1 + v2\n",
        "\n",
        "print(\"Result of vector addition:\", v3)  # Output: (6, 8)\n"
      ],
      "metadata": {
        "colab": {
          "base_uri": "https://localhost:8080/"
        },
        "id": "yB72iRspOspu",
        "outputId": "fbf48fe6-0ed7-47cf-b178-5e1a0cc569db"
      },
      "execution_count": null,
      "outputs": [
        {
          "output_type": "stream",
          "name": "stdout",
          "text": [
            "Result of vector addition: (6, 8)\n"
          ]
        }
      ]
    },
    {
      "cell_type": "code",
      "source": [
        "# Create a class Person with attributes name and age. Add a method greet()\n",
        "# that prints \"Hello, my name is {name} and I am {age} years old.\"\n",
        "\n",
        "class Person:\n",
        "    def __init__(self, name, age):\n",
        "        self.name = name\n",
        "        self.age = age\n",
        "\n",
        "    def greet(self):\n",
        "        print(f\"Hello, my name is {self.name} and I am {self.age} years old.\")\n",
        "\n",
        "# Example usage\n",
        "p = Person(\"Bitu Kumar Nath\", 28)\n",
        "p.greet()\n"
      ],
      "metadata": {
        "colab": {
          "base_uri": "https://localhost:8080/"
        },
        "id": "clD1nTRSPHeH",
        "outputId": "e7f65bc3-caba-4286-bcf8-1f296f909323"
      },
      "execution_count": null,
      "outputs": [
        {
          "output_type": "stream",
          "name": "stdout",
          "text": [
            "Hello, my name is Bitu Kumar Nath and I am 28 years old.\n"
          ]
        }
      ]
    },
    {
      "cell_type": "code",
      "source": [
        "#  Implement a class Student with attributes name and grades.\n",
        "# Create a method average_grade() to compute the average of the grades.\n",
        "\n",
        "class Student:\n",
        "    def __init__(self, name, grades):\n",
        "        self.name = name\n",
        "        self.grades = grades  # grades should be a list of numbers\n",
        "\n",
        "    def average_grade(self):\n",
        "        if not self.grades:\n",
        "            return 0\n",
        "        return sum(self.grades) / len(self.grades)\n",
        "\n",
        "# Example usage\n",
        "student = Student(\"Bitu\", [85, 90, 78, 92])\n",
        "print(f\"{student.name}'s average grade is: {student.average_grade()}\")\n"
      ],
      "metadata": {
        "colab": {
          "base_uri": "https://localhost:8080/"
        },
        "id": "TE5c_NuTPYH0",
        "outputId": "a47f9a5f-a475-44ba-cb17-6789518768f8"
      },
      "execution_count": null,
      "outputs": [
        {
          "output_type": "stream",
          "name": "stdout",
          "text": [
            "Bitu's average grade is: 86.25\n"
          ]
        }
      ]
    },
    {
      "cell_type": "code",
      "source": [
        "# Create a class Rectangle with methods set_dimensions() to set the dimensions\n",
        "# and area() to calculate the area.\n",
        "\n",
        "class Rectangle:\n",
        "    def __init__(self):\n",
        "        self.length = 0\n",
        "        self.width = 0\n",
        "\n",
        "    def set_dimensions(self, length, width):\n",
        "        self.length = length\n",
        "        self.width = width\n",
        "\n",
        "    def area(self):\n",
        "        return self.length * self.width\n",
        "\n",
        "# Example usage\n",
        "rect = Rectangle()\n",
        "rect.set_dimensions(5, 3)\n",
        "print(\"Area of rectangle:\", rect.area())\n"
      ],
      "metadata": {
        "colab": {
          "base_uri": "https://localhost:8080/"
        },
        "id": "nFWTAj3GPj1F",
        "outputId": "60ac38b6-b086-4334-dfcf-05d5ee34fc2e"
      },
      "execution_count": null,
      "outputs": [
        {
          "output_type": "stream",
          "name": "stdout",
          "text": [
            "Area of rectangle: 15\n"
          ]
        }
      ]
    },
    {
      "cell_type": "code",
      "source": [
        "# Create a class Employee with a method calculate_salary() that computes\n",
        "# the salary based on hours worked and hourly rate.\n",
        "# Create a derived class Manager that adds a bonus to the salary.\n",
        "\n",
        "class Employee:\n",
        "    def __init__(self, hours_worked, hourly_rate):\n",
        "        self.hours_worked = hours_worked\n",
        "        self.hourly_rate = hourly_rate\n",
        "\n",
        "    def calculate_salary(self):\n",
        "        return self.hours_worked * self.hourly_rate\n",
        "\n",
        "class Manager(Employee):\n",
        "    def __init__(self, hours_worked, hourly_rate, bonus):\n",
        "        super().__init__(hours_worked, hourly_rate)\n",
        "        self.bonus = bonus\n",
        "\n",
        "    def calculate_salary(self):\n",
        "        base_salary = super().calculate_salary()\n",
        "        return base_salary + self.bonus\n",
        "\n",
        "# Example usage\n",
        "emp = Employee(40, 20)\n",
        "mgr = Manager(40, 20, 500)\n",
        "\n",
        "print(\"Employee salary:\", emp.calculate_salary())\n",
        "print(\"Manager salary:\", mgr.calculate_salary())\n"
      ],
      "metadata": {
        "colab": {
          "base_uri": "https://localhost:8080/"
        },
        "id": "gmPg1HsePrit",
        "outputId": "15a1a9a2-a7d7-44bd-e12d-f6bae801d059"
      },
      "execution_count": null,
      "outputs": [
        {
          "output_type": "stream",
          "name": "stdout",
          "text": [
            "Employee salary: 800\n",
            "Manager salary: 1300\n"
          ]
        }
      ]
    },
    {
      "cell_type": "code",
      "source": [
        "# Create a class Product with attributes name, price, and quantity.\n",
        "# Implement a method total_price() that calculates the total\n",
        "# price of the product.\n",
        "\n",
        "class Product:\n",
        "    def __init__(self, name, price, quantity):\n",
        "        self.name = name\n",
        "        self.price = price\n",
        "        self.quantity = quantity\n",
        "\n",
        "    def total_price(self):\n",
        "        return self.price * self.quantity\n",
        "\n",
        "# Example usage\n",
        "product = Product(\"Laptop\", 800, 3)\n",
        "print(f\"Total price of {product.name}: ${product.total_price()}\")\n",
        "\n"
      ],
      "metadata": {
        "colab": {
          "base_uri": "https://localhost:8080/"
        },
        "id": "7KxNidasP1C2",
        "outputId": "e5eab15d-25c0-4138-975d-779b9670a047"
      },
      "execution_count": null,
      "outputs": [
        {
          "output_type": "stream",
          "name": "stdout",
          "text": [
            "Total price of Laptop: $2400\n"
          ]
        }
      ]
    },
    {
      "cell_type": "code",
      "source": [
        "# Create a class Animal with an abstract method sound().\n",
        "# Create two derived classes Cow and Sheep that implement the sound() method\n",
        "\n",
        "from abc import ABC, abstractmethod\n",
        "\n",
        "class Animal(ABC):\n",
        "    @abstractmethod\n",
        "    def sound(self):\n",
        "        pass\n",
        "\n",
        "class Cow(Animal):\n",
        "    def sound(self):\n",
        "        print(\"Moo\")\n",
        "\n",
        "class Sheep(Animal):\n",
        "    def sound(self):\n",
        "        print(\"Baa\")\n",
        "\n",
        "# Example usage\n",
        "cow = Cow()\n",
        "sheep = Sheep()\n",
        "\n",
        "cow.sound()    # Output: Moo\n",
        "sheep.sound()  # Output: Baa\n",
        "\n"
      ],
      "metadata": {
        "colab": {
          "base_uri": "https://localhost:8080/"
        },
        "id": "piPkHNAJQCGf",
        "outputId": "b50256e7-db6b-477b-860b-ba6b79836053"
      },
      "execution_count": null,
      "outputs": [
        {
          "output_type": "stream",
          "name": "stdout",
          "text": [
            "Moo\n",
            "Baa\n"
          ]
        }
      ]
    },
    {
      "cell_type": "code",
      "source": [
        "# Create a class Book with attributes title, author, and year_published.\n",
        "# Add a method get_book_info() that returns a formatted\n",
        "# string with the book's details.\n",
        "\n",
        "class Book:\n",
        "    def __init__(self, title, author, year_published):\n",
        "        self.title = title\n",
        "        self.author = author\n",
        "        self.year_published = year_published\n",
        "\n",
        "    def get_book_info(self):\n",
        "        return f\"'{self.title}' by {self.author}, published in {self.year_published}\"\n",
        "\n",
        "# Example usage\n",
        "book = Book(\"1984\", \"George Orwell\", 1949)\n",
        "print(book.get_book_info())\n"
      ],
      "metadata": {
        "colab": {
          "base_uri": "https://localhost:8080/"
        },
        "id": "bVebZaWCQK4Q",
        "outputId": "cf524936-be3f-4dae-bc0a-7241da24f90e"
      },
      "execution_count": null,
      "outputs": [
        {
          "output_type": "stream",
          "name": "stdout",
          "text": [
            "'1984' by George Orwell, published in 1949\n"
          ]
        }
      ]
    },
    {
      "cell_type": "code",
      "source": [
        "# Create a class House with attributes address and price.\n",
        "# Create a derived class Mansion that adds an attribute number_of_rooms.\n",
        "\n",
        "class House:\n",
        "    def __init__(self, address, price):\n",
        "        self.address = address\n",
        "        self.price = price\n",
        "\n",
        "class Mansion(House):\n",
        "    def __init__(self, address, price, number_of_rooms):\n",
        "        super().__init__(address, price)\n",
        "        self.number_of_rooms = number_of_rooms\n",
        "\n",
        "# Example usage\n",
        "mansion = Mansion(\"123 Luxury St\", 1000000, 10)\n",
        "print(f\"Address: {mansion.address}\")\n",
        "print(f\"Price: ${mansion.price}\")\n",
        "print(f\"Number of rooms: {mansion.number_of_rooms}\")\n"
      ],
      "metadata": {
        "id": "RzMqYsSRQSjq",
        "outputId": "cd524b19-b739-4c7a-b15a-4b5b5d5e038c",
        "colab": {
          "base_uri": "https://localhost:8080/"
        }
      },
      "execution_count": null,
      "outputs": [
        {
          "output_type": "stream",
          "name": "stdout",
          "text": [
            "Address: 123 Luxury St\n",
            "Price: $1000000\n",
            "Number of rooms: 10\n"
          ]
        }
      ]
    }
  ]
}